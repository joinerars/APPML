{
 "cells": [
  {
   "cell_type": "markdown",
   "metadata": {
    "id": "MHnWhBkJ2jfD"
   },
   "source": [
    "Universidad Central de Venezuela\n",
    "\n",
    "Facultad de Ciencias\n",
    "\n",
    "Escuela de Computación\n",
    "\n",
    "Aprendizaje Automático\n",
    "<br>\n",
    "<br>\n",
    "<br>\n",
    "<br>\n",
    "\n",
    "#**PROYECTO #1: APRENDIZAJE SUPERVISADO**\n",
    "<br>\n",
    "<br>\n",
    "<br>\n",
    "<br>\n",
    "Autores:\n",
    "<br>Juan Pablo Rivas - CI: 28304720\n",
    "<br>Joiner Rojas - CI: 29501730\n",
    "<br>Daniel Hernández - CI: 27795163\n",
    "<br>\n",
    "<br>\n",
    "Fecha: 11 de marzo de 2025</center>"
   ]
  },
  {
   "cell_type": "markdown",
   "metadata": {
    "id": "Dw9VLp1AeOD2"
   },
   "source": [
    "## Parte 1: Entendimiento y análisis de los datos"
   ]
  },
  {
   "cell_type": "markdown",
   "metadata": {
    "id": "-D8MuOr3don9"
   },
   "source": [
    "### Planteamiento del problema"
   ]
  },
  {
   "cell_type": "markdown",
   "metadata": {
    "id": "JT2SU65tds8J"
   },
   "source": [
    "El dataset que vamos a utilizar es **[Stroke Risk Prediction Dataset based on Literature](https://www.kaggle.com/datasets/mahatiratusher/stroke-risk-prediction-dataset-v2)**, ademas de eso, haremos uso de diferentes MRIs obtenidos de los datasets:\n",
    "\n",
    "* ()[]\n",
    "* ()[]\n",
    "* ()[]\n",
    "* ()[]\n",
    "\n",
    "A lo largo de este notebook, buscaremos entrenar un modelo que sea capaz de predecir la probabilidad que tiene una persona de sufrir un ataque cerebrovascular (ACV) basandonos en diferentes sintomas que presenta la misma. Para ello haremos uso del primer dataset y de multiples modelos de regresion, usaremos deiferentes metricas para compararlos y escoger aquel que nos ofrezca un mejor resultado.\n",
    "\n",
    "Tambien usaremos los diferentes MRIs para resolver un problema de clasificacion, ya que buscaremos un modelo que sea capaz de diferenciar entre un cerebro sano de uno que haya sufrido un ACV basandonos en estas imagenes, de forma similar al problema de regresion, vamos a entrenar diferentes modelos y compararlos usando las metricas correspondientes y almacenaremos aquel que nos de el mejor resultado posible."
   ]
  },
  {
   "cell_type": "markdown",
   "metadata": {
    "id": "96ghp4IusWwN"
   },
   "source": [
    "### Configuración del entorno"
   ]
  },
  {
   "cell_type": "markdown",
   "metadata": {
    "id": "ALhiA5lIdoNF"
   },
   "source": [
    "Lo primero que haremos será definir la semilla que vamos a utilizar, siendo esta la suma de las cédulas de identidad de cada integrante divida entre la cantidad de integrantes:"
   ]
  },
  {
   "cell_type": "code",
   "execution_count": null,
   "metadata": {
    "colab": {
     "base_uri": "https://localhost:8080/"
    },
    "executionInfo": {
     "elapsed": 8,
     "status": "ok",
     "timestamp": 1742304611078,
     "user": {
      "displayName": "Juan Pablo Rivas",
      "userId": "07914745906899618272"
     },
     "user_tz": 240
    },
    "id": "8yku_Wpqd3zI",
    "outputId": "b621c7b3-4a2b-4737-bb91-776ffbfaf128"
   },
   "outputs": [
    {
     "data": {
      "text/plain": [
       "28533871\n"
      ]
     },
     "metadata": {},
     "output_type": "display_data"
    }
   ],
   "source": [
    "SEED = (27795163 + 28304720 + 29501730)//3\n",
    "print(SEED)"
   ]
  },
  {
   "cell_type": "markdown",
   "metadata": {
    "id": "vMWskrkHhiX2"
   },
   "source": [
    "Luego, procedemos a instalar los componentes necesarios para la descarga de los datos:"
   ]
  },
  {
   "cell_type": "code",
   "execution_count": null,
   "metadata": {
    "colab": {
     "base_uri": "https://localhost:8080/"
    },
    "collapsed": true,
    "executionInfo": {
     "elapsed": 6463,
     "status": "ok",
     "timestamp": 1742304618736,
     "user": {
      "displayName": "Juan Pablo Rivas",
      "userId": "07914745906899618272"
     },
     "user_tz": 240
    },
    "id": "wffOR_9Bf0NT",
    "outputId": "3774bfa0-1b04-4d7b-bcc7-2618b0a831e8"
   },
   "outputs": [
    {
     "data": {
      "text/plain": [
       "Traceback (most recent call last):\n",
       "  File \"c:\\Users\\joine\\.vscode\\extensions\\ms-python.python-2025.2.0-win32-x64\\python_files\\python_server.py\", line 133, in exec_user_input\n",
       "    retval = callable_(user_input, user_globals)\n",
       "  File \"<string>\", line 1\n",
       "    !pip install opendatasets\n",
       "    ^\n",
       "SyntaxError: invalid syntax\n",
       "\n"
      ]
     },
     "metadata": {},
     "output_type": "display_data"
    }
   ],
   "source": [
    "!pip install opendatasets\n",
    "!pip install kaggle"
   ]
  },
  {
   "cell_type": "markdown",
   "metadata": {
    "id": "VUm-LGdGhkp-"
   },
   "source": [
    "Por último, haremos los imports de las librerias que serán necesarias a lo largo de todo el notebook:"
   ]
  },
  {
   "cell_type": "code",
   "execution_count": null,
   "metadata": {
    "executionInfo": {
     "elapsed": 4810,
     "status": "ok",
     "timestamp": 1742304628184,
     "user": {
      "displayName": "Juan Pablo Rivas",
      "userId": "07914745906899618272"
     },
     "user_tz": 240
    },
    "id": "zSShFcsXRhr9"
   },
   "outputs": [],
   "source": [
    "# Agregar librerías acá\n",
    "import re\n",
    "import hashlib\n",
    "import numpy as np\n",
    "import pandas as pd\n",
    "import seaborn as sns\n",
    "import opendatasets as ods\n",
    "import matplotlib.pyplot as plt\n",
    "\n",
    "# Metricas y preprocesamiento\n",
    "from sklearn.metrics import mean_squared_error\n",
    "from sklearn.preprocessing import OneHotEncoder\n",
    "from sklearn.metrics import classification_report,confusion_matrix, f1_score\n",
    "from sklearn.model_selection import train_test_split, GridSearchCV, cross_val_score"
   ]
  },
  {
   "cell_type": "markdown",
   "metadata": {
    "id": "jbnKYsUDfRAE"
   },
   "source": [
    "### Análisis exploratorio de los datos"
   ]
  },
  {
   "cell_type": "markdown",
   "metadata": {
    "id": "yQMQmW8kfVhy"
   },
   "source": [
    "Para iniciar el analisis exploratorio de datos, vamos a descargar los mismos:"
   ]
  },
  {
   "cell_type": "code",
   "execution_count": null,
   "metadata": {
    "colab": {
     "base_uri": "https://localhost:8080/"
    },
    "executionInfo": {
     "elapsed": 2203,
     "status": "ok",
     "timestamp": 1742304632451,
     "user": {
      "displayName": "Juan Pablo Rivas",
      "userId": "07914745906899618272"
     },
     "user_tz": 240
    },
    "id": "DDe36O0TfhRO",
    "outputId": "388562ca-bcf7-4774-cf0b-5ba1aa89d66b"
   },
   "outputs": [
    {
     "data": {
      "text/plain": [
       "Traceback (most recent call last):\n",
       "  File \"c:\\Users\\joine\\.vscode\\extensions\\ms-python.python-2025.2.0-win32-x64\\python_files\\python_server.py\", line 133, in exec_user_input\n",
       "    retval = callable_(user_input, user_globals)\n",
       "  File \"<string>\", line 4, in <module>\n",
       "NameError: name 'os' is not defined\n",
       "\n"
      ]
     },
     "metadata": {},
     "output_type": "display_data"
    }
   ],
   "source": [
    "\n",
    "\n",
    "# Define la ruta al archivo JSON\n",
    "os.environ['KAGGLE_CONFIG_DIR'] = os.getcwd()\n",
    "\n",
    "#Descarga del primer dataset\n",
    "ods.download(\n",
    "    \"https://www.kaggle.com/datasets/mahatiratusher/stroke-risk-prediction-dataset-v2\"\n",
    "    )"
   ]
  },
  {
   "cell_type": "code",
   "execution_count": null,
   "metadata": {
    "colab": {
     "base_uri": "https://localhost:8080/",
     "height": 443
    },
    "executionInfo": {
     "elapsed": 213,
     "status": "ok",
     "timestamp": 1742304642824,
     "user": {
      "displayName": "Juan Pablo Rivas",
      "userId": "07914745906899618272"
     },
     "user_tz": 240
    },
    "id": "7s-Z29Sopnqw",
    "outputId": "68072a84-1581-403d-f61a-a83d7a7fe543"
   },
   "outputs": [
    {
     "data": {
      "text/plain": [
       "Traceback (most recent call last):\n",
       "  File \"<string>\", line 3, in <module>\n",
       "  File \"C:\\Users\\joine\\AppData\\Local\\Programs\\Python\\Python310\\lib\\site-packages\\pandas\\io\\parsers\\readers.py\", line 1026, in read_csv\n",
       "    return _read(filepath_or_buffer, kwds)\n",
       "  File \"C:\\Users\\joine\\AppData\\Local\\Programs\\Python\\Python310\\lib\\site-packages\\pandas\\io\\parsers\\readers.py\", line 620, in _read\n",
       "    parser = TextFileReader(filepath_or_buffer, **kwds)\n",
       "  File \"C:\\Users\\joine\\AppData\\Local\\Programs\\Python\\Python310\\lib\\site-packages\\pandas\\io\\parsers\\readers.py\", line 1620, in __init__\n",
       "    self._engine = self._make_engine(f, self.engine)\n",
       "  File \"C:\\Users\\joine\\AppData\\Local\\Programs\\Python\\Python310\\lib\\site-packages\\pandas\\io\\parsers\\readers.py\", line 1880, in _make_engine\n",
       "    self.handles = get_handle(\n",
       "  File \"C:\\Users\\joine\\AppData\\Local\\Programs\\Python\\Python310\\lib\\site-packages\\pandas\\io\\common.py\", line 873, in get_handle\n",
       "    handle = open(\n",
       "FileNotFoundError: [Errno 2] No such file or directory: '/content/stroke-risk-prediction-dataset-v2/stroke_risk_dataset_v2.csv'\n",
       "\n",
       "During handling of the above exception, another exception occurred:\n",
       "\n",
       "Traceback (most recent call last):\n",
       "  File \"c:\\Users\\joine\\.vscode\\extensions\\ms-python.python-2025.2.0-win32-x64\\python_files\\python_server.py\", line 133, in exec_user_input\n",
       "    retval = callable_(user_input, user_globals)\n",
       "  File \"<string>\", line 5, in <module>\n",
       "  File \"C:\\Users\\joine\\AppData\\Local\\Programs\\Python\\Python310\\lib\\site-packages\\pandas\\io\\parsers\\readers.py\", line 1026, in read_csv\n",
       "    return _read(filepath_or_buffer, kwds)\n",
       "  File \"C:\\Users\\joine\\AppData\\Local\\Programs\\Python\\Python310\\lib\\site-packages\\pandas\\io\\parsers\\readers.py\", line 620, in _read\n",
       "    parser = TextFileReader(filepath_or_buffer, **kwds)\n",
       "  File \"C:\\Users\\joine\\AppData\\Local\\Programs\\Python\\Python310\\lib\\site-packages\\pandas\\io\\parsers\\readers.py\", line 1620, in __init__\n",
       "    self._engine = self._make_engine(f, self.engine)\n",
       "  File \"C:\\Users\\joine\\AppData\\Local\\Programs\\Python\\Python310\\lib\\site-packages\\pandas\\io\\parsers\\readers.py\", line 1880, in _make_engine\n",
       "    self.handles = get_handle(\n",
       "  File \"C:\\Users\\joine\\AppData\\Local\\Programs\\Python\\Python310\\lib\\site-packages\\pandas\\io\\common.py\", line 873, in get_handle\n",
       "    handle = open(\n",
       "FileNotFoundError: [Errno 2] No such file or directory: 'stroke-risk-prediction-dataset-v2/stroke_risk_dataset_v2.csv'\n",
       "\n"
      ]
     },
     "metadata": {},
     "output_type": "display_data"
    }
   ],
   "source": [
    "try:\n",
    "    # Almacenamos los datos en un Data Frame\n",
    "    rawData = pd.read_csv(\"/content/stroke-risk-prediction-dataset-v2/stroke_risk_dataset_v2.csv\")\n",
    "except:\n",
    "    rawData = pd.read_csv(\"stroke-risk-prediction-dataset-v2/stroke_risk_dataset_v2.csv\")\n",
    "\n",
    "\n",
    "# Se muestran una vista previa de los datos\n",
    "rawData"
   ]
  },
  {
   "cell_type": "markdown",
   "metadata": {
    "id": "OlIIlzARxUFl"
   },
   "source": [
    "Para saber si tenenmos valores nulos en alguna instancia de nuestras variables, debemos tener una vista más detallada de los datos, para ello se tiene el siguiente fragmento de código:"
   ]
  },
  {
   "cell_type": "code",
   "execution_count": null,
   "metadata": {
    "colab": {
     "base_uri": "https://localhost:8080/"
    },
    "executionInfo": {
     "elapsed": 24,
     "status": "ok",
     "timestamp": 1742304647413,
     "user": {
      "displayName": "Juan Pablo Rivas",
      "userId": "07914745906899618272"
     },
     "user_tz": 240
    },
    "id": "iWAoZ303xUk1",
    "outputId": "46788760-322e-4b86-935a-1b1bf52d843a"
   },
   "outputs": [
    {
     "data": {
      "text/plain": [
       "Traceback (most recent call last):\n",
       "  File \"c:\\Users\\joine\\.vscode\\extensions\\ms-python.python-2025.2.0-win32-x64\\python_files\\python_server.py\", line 133, in exec_user_input\n",
       "    retval = callable_(user_input, user_globals)\n",
       "  File \"<string>\", line 2, in <module>\n",
       "NameError: name 'rawData' is not defined\n",
       "\n"
      ]
     },
     "metadata": {},
     "output_type": "display_data"
    }
   ],
   "source": [
    "# Información detallada del dataset\n",
    "rawData.info()"
   ]
  },
  {
   "cell_type": "markdown",
   "metadata": {
    "id": "f_Anget1lkvY"
   },
   "source": [
    "Podemos observar entonces que tenemos 19 variables para 35 mil pacientes, sin valores nulos en ninguna instancia. Como siguiente observación veamos la cantidad de pacientes hombres y mujeres existentes para validar que no haya ningún sesgo por género, ademas debemos revisar la cantidad de pacientes que se encuentran en riesgo o no, y así saber si las clases que vamos a definir están o no balanceadas."
   ]
  },
  {
   "cell_type": "code",
   "execution_count": null,
   "metadata": {
    "colab": {
     "base_uri": "https://localhost:8080/"
    },
    "executionInfo": {
     "elapsed": 37,
     "status": "ok",
     "timestamp": 1742304655905,
     "user": {
      "displayName": "Juan Pablo Rivas",
      "userId": "07914745906899618272"
     },
     "user_tz": 240
    },
    "id": "3e3uPQs2mF4B",
    "outputId": "d880c24a-b17e-411a-9ec7-f10ad44b2e99"
   },
   "outputs": [
    {
     "data": {
      "text/plain": [
       "Traceback (most recent call last):\n",
       "  File \"c:\\Users\\joine\\.vscode\\extensions\\ms-python.python-2025.2.0-win32-x64\\python_files\\python_server.py\", line 133, in exec_user_input\n",
       "    retval = callable_(user_input, user_globals)\n",
       "  File \"<string>\", line 1, in <module>\n",
       "NameError: name 'rawData' is not defined\n",
       "\n"
      ]
     },
     "metadata": {},
     "output_type": "display_data"
    }
   ],
   "source": [
    "print(f\"Cantidad de pacientes hombres: {rawData[rawData['gender'] == 'Male'].shape[0]}\")\n",
    "print(f\"Cantidad de pacientes mujeres: {rawData[rawData['gender'] == 'Female'].shape[0]}\")\n",
    "print(f\"Cantidad de pacientes en riesgo de sufrir ACV: {rawData[rawData['at_risk'] == 1].shape[0]}\")\n",
    "print(f\"Cantidad de pacientes que no están en riesgo de sufrir un ACV: {rawData[rawData['at_risk'] == 0].shape[0]}\")"
   ]
  },
  {
   "cell_type": "markdown",
   "metadata": {
    "id": "75nAbBasmwTd"
   },
   "source": [
    "Podemos ver que tenemos una cantidad similar de pacientes masculinos y femeninos, sin embargo existen un desbalance en cuanto a pacientes propensos a sufrir un ACV o no, es importante tener esto en cuenta al momento de separar los datos para entrenamiento y prueba.\n",
    "\n",
    "Por ultimo, vamos a observar valores extremos presentes en los datos, por ejemplo, aquellos pacientes con una mayor posibilidad de estar en riesgo y aquel o aquellos con la menor probabilidad de estarlo."
   ]
  },
  {
   "cell_type": "code",
   "execution_count": null,
   "metadata": {
    "colab": {
     "base_uri": "https://localhost:8080/"
    },
    "executionInfo": {
     "elapsed": 12,
     "status": "ok",
     "timestamp": 1742304670392,
     "user": {
      "displayName": "Juan Pablo Rivas",
      "userId": "07914745906899618272"
     },
     "user_tz": 240
    },
    "id": "iCvFXwMzpCjj",
    "outputId": "bd84423c-4d9c-4345-e4de-48c3a6c5b2b3"
   },
   "outputs": [
    {
     "data": {
      "text/plain": [
       "Traceback (most recent call last):\n",
       "  File \"c:\\Users\\joine\\.vscode\\extensions\\ms-python.python-2025.2.0-win32-x64\\python_files\\python_server.py\", line 133, in exec_user_input\n",
       "    retval = callable_(user_input, user_globals)\n",
       "  File \"<string>\", line 2, in <module>\n",
       "NameError: name 'rawData' is not defined\n",
       "\n"
      ]
     },
     "metadata": {},
     "output_type": "display_data"
    }
   ],
   "source": [
    "# Aquellos pacientes que tienen un 100% de probabilidad de estar en riesgo.\n",
    "maxRisk = rawData[rawData['stroke_risk_percentage'] == rawData['stroke_risk_percentage'].max()]\n",
    "\n",
    "#Aquellos pacientes cuya probabilidad de sufrir un ACV es de 0.\n",
    "minRisk = rawData[rawData['stroke_risk_percentage'] == rawData['stroke_risk_percentage'].min()]\n",
    "\n",
    "# Cantidades obtenidas\n",
    "print(f\"Cantidad de pacientes de alto riesgo: {maxRisk.shape[0]}\")\n",
    "print(f\"Cantidad de pacientes de riesgo nulo: {minRisk.shape[0]}\")"
   ]
  },
  {
   "cell_type": "code",
   "execution_count": null,
   "metadata": {
    "colab": {
     "base_uri": "https://localhost:8080/",
     "height": 443
    },
    "executionInfo": {
     "elapsed": 59,
     "status": "ok",
     "timestamp": 1742304672865,
     "user": {
      "displayName": "Juan Pablo Rivas",
      "userId": "07914745906899618272"
     },
     "user_tz": 240
    },
    "id": "ZNUrVd-npr3F",
    "outputId": "c526f22f-1377-46b4-efa1-2e6e24e538b2"
   },
   "outputs": [
    {
     "data": {
      "text/plain": [
       "Traceback (most recent call last):\n",
       "  File \"c:\\Users\\joine\\.vscode\\extensions\\ms-python.python-2025.2.0-win32-x64\\python_files\\python_server.py\", line 133, in exec_user_input\n",
       "    retval = callable_(user_input, user_globals)\n",
       "  File \"<string>\", line 1, in <module>\n",
       "NameError: name 'maxRisk' is not defined\n",
       "\n"
      ]
     },
     "metadata": {},
     "output_type": "display_data"
    }
   ],
   "source": [
    "maxRisk"
   ]
  },
  {
   "cell_type": "code",
   "execution_count": null,
   "metadata": {
    "colab": {
     "base_uri": "https://localhost:8080/",
     "height": 257
    },
    "executionInfo": {
     "elapsed": 13,
     "status": "ok",
     "timestamp": 1742304675566,
     "user": {
      "displayName": "Juan Pablo Rivas",
      "userId": "07914745906899618272"
     },
     "user_tz": 240
    },
    "id": "U7qCw_x4ptNc",
    "outputId": "0c06f673-0d9f-4f2a-ea14-ca108f7723ec"
   },
   "outputs": [
    {
     "data": {
      "text/plain": [
       "Traceback (most recent call last):\n",
       "  File \"c:\\Users\\joine\\.vscode\\extensions\\ms-python.python-2025.2.0-win32-x64\\python_files\\python_server.py\", line 133, in exec_user_input\n",
       "    retval = callable_(user_input, user_globals)\n",
       "  File \"<string>\", line 1, in <module>\n",
       "NameError: name 'minRisk' is not defined\n",
       "\n"
      ]
     },
     "metadata": {},
     "output_type": "display_data"
    }
   ],
   "source": [
    "minRisk"
   ]
  },
  {
   "cell_type": "markdown",
   "metadata": {
    "id": "HjBaMq0OfhvQ"
   },
   "source": [
    "### Pre-procesamiento"
   ]
  },
  {
   "cell_type": "markdown",
   "metadata": {
    "id": "ChujWAUrf9He"
   },
   "source": [
    "Para comenzar esta seccion, lo primero que haremos sera modificar la variable 'gender' de forma que podamos trabajar exclusivamente con valores numericos en lugar de variables categoricas. Ademas debemos normalizar los valores de la columna 'stroke_risk_percentage' para que esten entre 0 y 1."
   ]
  },
  {
   "cell_type": "code",
   "execution_count": null,
   "metadata": {
    "colab": {
     "base_uri": "https://localhost:8080/",
     "height": 226
    },
    "executionInfo": {
     "elapsed": 102,
     "status": "ok",
     "timestamp": 1742304684224,
     "user": {
      "displayName": "Juan Pablo Rivas",
      "userId": "07914745906899618272"
     },
     "user_tz": 240
    },
    "id": "jQKEpJQrr3CX",
    "outputId": "b59da74b-43da-43d7-acbc-56dc95a64807"
   },
   "outputs": [
    {
     "data": {
      "text/plain": [
       "Traceback (most recent call last):\n",
       "  File \"c:\\Users\\joine\\.vscode\\extensions\\ms-python.python-2025.2.0-win32-x64\\python_files\\python_server.py\", line 133, in exec_user_input\n",
       "    retval = callable_(user_input, user_globals)\n",
       "  File \"<string>\", line 5, in <module>\n",
       "NameError: name 'rawData' is not defined\n",
       "\n"
      ]
     },
     "metadata": {},
     "output_type": "display_data"
    }
   ],
   "source": [
    "# Definimos nuestra instancia para el OneHotEncoder\n",
    "encoder = OneHotEncoder()\n",
    "\n",
    "# Se modifican las columnas y se almacenan en un nuevo Data Frame\n",
    "encodedData = encoder.fit_transform(rawData[['gender']])\n",
    "encodedData = pd.DataFrame(encodedData.toarray(), columns=encoder.get_feature_names_out(['gender']))\n",
    "\n",
    "# Concatenamos los Data Frames en uno nuevo para que se reflejen los cambios\n",
    "finalData = pd.concat([encodedData, rawData.drop(['gender'],axis = 1)],axis = 1)\n",
    "\n",
    "# Normalizamos los valores de los porcentajes\n",
    "finalData['stroke_risk_percentage']/=100\n",
    "\n",
    "# Vista previa de los datos pre-procesados\n",
    "finalData.head()"
   ]
  },
  {
   "cell_type": "markdown",
   "metadata": {
    "id": "xE6q_RoCfvsf"
   },
   "source": [
    "Con este cambio, podemos calcular la matriz de correlación entre variables, obteniendo como resultado:"
   ]
  },
  {
   "cell_type": "code",
   "execution_count": null,
   "metadata": {
    "colab": {
     "base_uri": "https://localhost:8080/",
     "height": 816
    },
    "executionInfo": {
     "elapsed": 1047,
     "status": "ok",
     "timestamp": 1742304688024,
     "user": {
      "displayName": "Juan Pablo Rivas",
      "userId": "07914745906899618272"
     },
     "user_tz": 240
    },
    "id": "cQquxao6uTrd",
    "outputId": "573f7e61-5318-47f3-96d0-14371bfe3599"
   },
   "outputs": [
    {
     "data": {
      "text/plain": [
       "Traceback (most recent call last):\n",
       "  File \"c:\\Users\\joine\\.vscode\\extensions\\ms-python.python-2025.2.0-win32-x64\\python_files\\python_server.py\", line 133, in exec_user_input\n",
       "    retval = callable_(user_input, user_globals)\n",
       "  File \"<string>\", line 2, in <module>\n",
       "NameError: name 'finalData' is not defined\n",
       "\n"
      ]
     },
     "metadata": {},
     "output_type": "display_data"
    }
   ],
   "source": [
    "# Definimos una máscara para la matriz de correlación\n",
    "mask = np.triu(np.ones_like(finalData.corr(), dtype=bool))\n",
    "\n",
    "plt.figure(figsize=(10, 8))\n",
    "sns.heatmap(finalData.corr(), annot=True, fmt=\".2f\", mask = mask, cmap=\"coolwarm\", annot_kws={\"fontsize\": 8})\n",
    "plt.title(\"Matriz de correlación\", fontsize=16) # Título del gráfico\n",
    "plt.tick_params(axis='both', labelsize=8) # Reduce el tamaño de las etiquetas del eje\n",
    "plt.show()"
   ]
  },
  {
   "cell_type": "markdown",
   "metadata": {
    "id": "KMjjjdPdwkXd"
   },
   "source": [
    "Nuestro siguiente paso será separar los datos en los conjuntos de prueba y entrenamiento para los correspondientes modelos de regresión que deseamos entrenar, para ello debemos separar los datos de las correspondientes etiquetas presentes en las columnas 'stroke_risk_percentage' para regresión, por ello hacemos:"
   ]
  },
  {
   "cell_type": "code",
   "execution_count": null,
   "metadata": {
    "colab": {
     "base_uri": "https://localhost:8080/",
     "height": 443
    },
    "executionInfo": {
     "elapsed": 100,
     "status": "ok",
     "timestamp": 1742304691333,
     "user": {
      "displayName": "Juan Pablo Rivas",
      "userId": "07914745906899618272"
     },
     "user_tz": 240
    },
    "id": "BHCJtD-YvNE0",
    "outputId": "10287da4-07d4-40d2-8192-e15306746fa5"
   },
   "outputs": [
    {
     "data": {
      "text/plain": [
       "Traceback (most recent call last):\n",
       "  File \"c:\\Users\\joine\\.vscode\\extensions\\ms-python.python-2025.2.0-win32-x64\\python_files\\python_server.py\", line 133, in exec_user_input\n",
       "    retval = callable_(user_input, user_globals)\n",
       "  File \"<string>\", line 2, in <module>\n",
       "NameError: name 'finalData' is not defined\n",
       "\n"
      ]
     },
     "metadata": {},
     "output_type": "display_data"
    }
   ],
   "source": [
    "# Datos sin las etiquetas\n",
    "X = finalData.copy().drop(['stroke_risk_percentage', 'at_risk'],axis = 1)\n",
    "\n",
    "# Vista previa de los datos\n",
    "X"
   ]
  },
  {
   "cell_type": "markdown",
   "metadata": {
    "id": "yT02pEhVygHd"
   },
   "source": [
    "Ademas de los datos, debemos separar las etiquetas antes mencionadas, en el caso de regresion tenemos:"
   ]
  },
  {
   "cell_type": "code",
   "execution_count": null,
   "metadata": {
    "colab": {
     "base_uri": "https://localhost:8080/",
     "height": 458
    },
    "executionInfo": {
     "elapsed": 30,
     "status": "ok",
     "timestamp": 1742304693026,
     "user": {
      "displayName": "Juan Pablo Rivas",
      "userId": "07914745906899618272"
     },
     "user_tz": 240
    },
    "id": "CobdsqSVyfKv",
    "outputId": "e81570eb-dffb-4366-c513-8d743260e20c"
   },
   "outputs": [
    {
     "data": {
      "text/plain": [
       "Traceback (most recent call last):\n",
       "  File \"c:\\Users\\joine\\.vscode\\extensions\\ms-python.python-2025.2.0-win32-x64\\python_files\\python_server.py\", line 133, in exec_user_input\n",
       "    retval = callable_(user_input, user_globals)\n",
       "  File \"<string>\", line 2, in <module>\n",
       "NameError: name 'finalData' is not defined\n",
       "\n"
      ]
     },
     "metadata": {},
     "output_type": "display_data"
    }
   ],
   "source": [
    "# Etiquetas para los modelos de regresion\n",
    "yProba = finalData['stroke_risk_percentage']\n",
    "\n",
    "# Vista previa de las etiquetas\n",
    "yProba"
   ]
  },
  {
   "cell_type": "markdown",
   "metadata": {
    "id": "Va2wW3zOygwQ"
   },
   "source": [
    "Por ultimo, para los modelos de clasificacion tenemos:"
   ]
  },
  {
   "cell_type": "code",
   "execution_count": null,
   "metadata": {
    "colab": {
     "base_uri": "https://localhost:8080/",
     "height": 458
    },
    "executionInfo": {
     "elapsed": 48,
     "status": "ok",
     "timestamp": 1742304695081,
     "user": {
      "displayName": "Juan Pablo Rivas",
      "userId": "07914745906899618272"
     },
     "user_tz": 240
    },
    "id": "IDEJUp7uyhbU",
    "outputId": "5803674c-ed18-47fa-b21a-e8602d221731"
   },
   "outputs": [
    {
     "data": {
      "text/plain": [
       "Traceback (most recent call last):\n",
       "  File \"c:\\Users\\joine\\.vscode\\extensions\\ms-python.python-2025.2.0-win32-x64\\python_files\\python_server.py\", line 133, in exec_user_input\n",
       "    retval = callable_(user_input, user_globals)\n",
       "  File \"<string>\", line 2, in <module>\n",
       "NameError: name 'finalData' is not defined\n",
       "\n"
      ]
     },
     "metadata": {},
     "output_type": "display_data"
    }
   ],
   "source": [
    "# Etiquetas para los modelos de clasificacion\n",
    "yClass = finalData['at_risk']\n",
    "\n",
    "#Vista previa de las clases\n",
    "yClass"
   ]
  },
  {
   "cell_type": "code",
   "execution_count": null,
   "metadata": {
    "executionInfo": {
     "elapsed": 19,
     "status": "ok",
     "timestamp": 1742304698959,
     "user": {
      "displayName": "Juan Pablo Rivas",
      "userId": "07914745906899618272"
     },
     "user_tz": 240
    },
    "id": "kC-nPb4X3rKF"
   },
   "outputs": [
    {
     "data": {
      "text/plain": [
       "Traceback (most recent call last):\n",
       "  File \"c:\\Users\\joine\\.vscode\\extensions\\ms-python.python-2025.2.0-win32-x64\\python_files\\python_server.py\", line 133, in exec_user_input\n",
       "    retval = callable_(user_input, user_globals)\n",
       "  File \"<string>\", line 2, in <module>\n",
       "NameError: name 'X' is not defined\n",
       "\n"
      ]
     },
     "metadata": {},
     "output_type": "display_data"
    }
   ],
   "source": [
    "# Separamos los datos en gruos de entrenamiento y prueba usando una relación de 80 - 20\n",
    "X_train, X_test, y_train, y_test = train_test_split(X, yProba, test_size=0.2, random_state=SEED)"
   ]
  },
  {
   "cell_type": "markdown",
   "metadata": {
    "id": "OF5NHXsqgKZs"
   },
   "source": [
    "## Parte 2: Modelo de aprendizaje supervisado"
   ]
  },
  {
   "cell_type": "markdown",
   "metadata": {
    "id": "KKe7kHTzgW3O"
   },
   "source": [
    "Pequeña explicación de como el modelo que usaremos va a solucionar uno de los problemas planteados"
   ]
  },
  {
   "cell_type": "markdown",
   "metadata": {
    "id": "9V4OVdZ0hLXd"
   },
   "source": [
    "#### Métricas"
   ]
  },
  {
   "cell_type": "markdown",
   "metadata": {
    "id": "0JOZ0YucyTCX"
   },
   "source": [
    "Para evaluar el rendimiento de los modelos de regresión planteados en esta sección haremos uso de las siguientes métricas:\n",
    "\n",
    "* $R^2$: El coeficiente de determinación, nos indica que tan bueno es el rendimiento de nuestro modelo en comparación a la peor solución posible.\n",
    "\n",
    "* $MSE$: El error cuadrático medio, nos indica que tanto alejada está la respuesta del modelo respecto al valor real esperado.\n",
    "\n",
    "* $RMSE$: Es la raíz cuadrada del error cuadrático medio, nos dice que tanto se está equivocando en promedio nuestro modelo en la misma proporción del problema."
   ]
  },
  {
   "cell_type": "markdown",
   "metadata": {
    "id": "l_YsPqcYiZX6"
   },
   "source": [
    "#### 1. Regresión Lineal sin regularización"
   ]
  },
  {
   "cell_type": "markdown",
   "metadata": {
    "id": "6MRvwl0JwIAq"
   },
   "source": [
    "Habladera del modelo(?"
   ]
  },
  {
   "cell_type": "markdown",
   "metadata": {
    "id": "VBPdktMmwea-"
   },
   "source": [
    "1. Imports."
   ]
  },
  {
   "cell_type": "code",
   "execution_count": null,
   "metadata": {
    "executionInfo": {
     "elapsed": 411,
     "status": "ok",
     "timestamp": 1742304709750,
     "user": {
      "displayName": "Juan Pablo Rivas",
      "userId": "07914745906899618272"
     },
     "user_tz": 240
    },
    "id": "LL5HRduzx9iA"
   },
   "outputs": [],
   "source": [
    "#Modelos regresion\n",
    "from sklearn.linear_model import LinearRegression"
   ]
  },
  {
   "cell_type": "markdown",
   "metadata": {
    "id": "i45zqmNvwn8E"
   },
   "source": [
    "2. Entrenamiento y prueba del modelo."
   ]
  },
  {
   "cell_type": "markdown",
   "metadata": {
    "id": "ENdZWrE90I7g"
   },
   "source": [
    "Se entrena el modelo con los datos que correspondientes"
   ]
  },
  {
   "cell_type": "code",
   "execution_count": null,
   "metadata": {
    "colab": {
     "base_uri": "https://localhost:8080/",
     "height": 80
    },
    "executionInfo": {
     "elapsed": 336,
     "status": "ok",
     "timestamp": 1742304712243,
     "user": {
      "displayName": "Juan Pablo Rivas",
      "userId": "07914745906899618272"
     },
     "user_tz": 240
    },
    "id": "A5Fo28D-wrqS",
    "outputId": "59813d09-8e07-42a4-c01b-c1f14fac2dd9"
   },
   "outputs": [
    {
     "data": {
      "text/plain": [
       "Traceback (most recent call last):\n",
       "  File \"c:\\Users\\joine\\.vscode\\extensions\\ms-python.python-2025.2.0-win32-x64\\python_files\\python_server.py\", line 133, in exec_user_input\n",
       "    retval = callable_(user_input, user_globals)\n",
       "  File \"<string>\", line 5, in <module>\n",
       "NameError: name 'X_train' is not defined\n",
       "\n"
      ]
     },
     "metadata": {},
     "output_type": "display_data"
    }
   ],
   "source": [
    "# Se define el modelo a usar\n",
    "linearModel = LinearRegression()\n",
    "\n",
    "# DND... Machine is learning\n",
    "linearModel.fit(X_train, y_train)"
   ]
  },
  {
   "cell_type": "markdown",
   "metadata": {
    "id": "lhIUuD0_0tcz"
   },
   "source": [
    "Una vez finalizado el proceso de entrenamiento, podemos hacer predicciones con el conjunto de datos definido para prueba."
   ]
  },
  {
   "cell_type": "code",
   "execution_count": null,
   "metadata": {
    "colab": {
     "base_uri": "https://localhost:8080/"
    },
    "executionInfo": {
     "elapsed": 15,
     "status": "ok",
     "timestamp": 1742304715568,
     "user": {
      "displayName": "Juan Pablo Rivas",
      "userId": "07914745906899618272"
     },
     "user_tz": 240
    },
    "id": "fQirc3OK08Hg",
    "outputId": "9b44826b-ba1d-4793-cc18-81424f2cd079"
   },
   "outputs": [
    {
     "data": {
      "text/plain": [
       "Traceback (most recent call last):\n",
       "  File \"c:\\Users\\joine\\.vscode\\extensions\\ms-python.python-2025.2.0-win32-x64\\python_files\\python_server.py\", line 133, in exec_user_input\n",
       "    retval = callable_(user_input, user_globals)\n",
       "  File \"<string>\", line 1, in <module>\n",
       "NameError: name 'X_test' is not defined\n",
       "\n"
      ]
     },
     "metadata": {},
     "output_type": "display_data"
    }
   ],
   "source": [
    "linearPredictions = linearModel.predict(X_test)\n",
    "\n",
    "print(f\"Las predicciones hechas por el modelo son: {linearPredictions}\")\n",
    "print(f\"Las etiquetas reales son: {y_test.values}\")"
   ]
  },
  {
   "cell_type": "markdown",
   "metadata": {
    "id": "BzWAsxKKxHhe"
   },
   "source": [
    "4. Resultados obtenidos."
   ]
  },
  {
   "cell_type": "markdown",
   "metadata": {
    "id": "G-1-PJrzxK-7"
   },
   "source": [
    "Aca podemos mostrar los resultados de cada modelo, con un reporte para cada uno, matrices de confusion, etc"
   ]
  },
  {
   "cell_type": "code",
   "execution_count": null,
   "metadata": {
    "colab": {
     "base_uri": "https://localhost:8080/"
    },
    "executionInfo": {
     "elapsed": 1050,
     "status": "ok",
     "timestamp": 1742304721240,
     "user": {
      "displayName": "Juan Pablo Rivas",
      "userId": "07914745906899618272"
     },
     "user_tz": 240
    },
    "id": "d_5o_0Z9xTQ9",
    "outputId": "a13b5141-deea-45d5-efd1-a064c79248c6"
   },
   "outputs": [
    {
     "data": {
      "text/plain": [
       "Traceback (most recent call last):\n",
       "  File \"c:\\Users\\joine\\.vscode\\extensions\\ms-python.python-2025.2.0-win32-x64\\python_files\\python_server.py\", line 133, in exec_user_input\n",
       "    retval = callable_(user_input, user_globals)\n",
       "  File \"<string>\", line 1, in <module>\n",
       "NameError: name 'X' is not defined\n",
       "\n"
      ]
     },
     "metadata": {},
     "output_type": "display_data"
    }
   ],
   "source": [
    "linearModelRMSE = cross_val_score(linearModel, X, yProba, cv=5, scoring='neg_root_mean_squared_error')*-1\n",
    "linearModelMSE = cross_val_score(linearModel, X, yProba, cv=5, scoring='neg_mean_squared_error')*-1\n",
    "linearModelr2 = cross_val_score(linearModel, X, yProba, cv=5, scoring='r2')\n",
    "\n",
    "print(f\"RMSE obtenido por el modelo de Regresión Lineal (Sin regularización) en validación cruzada con 5 slices es de {np.round(np.mean(linearModelRMSE),50)}\")\n",
    "print(f\"MSE obtenido por el modelo de Regresión Lineal (Sin regularización) en validación cruzada con 5 slices es de {np.round(np.mean(linearModelMSE),50)}\")\n",
    "print(f\"R^2 obtenido por el modelo de Regresión Lineal (Sin regularización) en validación cruzada con 5 slices es de {np.round(np.mean(linearModelr2),50)}\")"
   ]
  },
  {
   "cell_type": "markdown",
   "metadata": {
    "id": "N6HJXMWhidig"
   },
   "source": [
    "#### Regresión Lineal con regularizacion $l_1$ (Lasso)"
   ]
  },
  {
   "cell_type": "markdown",
   "metadata": {
    "id": "oNidcn1WyJng"
   },
   "source": [
    "Habladera del modelo(?"
   ]
  },
  {
   "cell_type": "markdown",
   "metadata": {
    "id": "cR6iRhWTyJnh"
   },
   "source": [
    "1. Imports"
   ]
  },
  {
   "cell_type": "code",
   "execution_count": null,
   "metadata": {
    "executionInfo": {
     "elapsed": 14,
     "status": "ok",
     "timestamp": 1742304725692,
     "user": {
      "displayName": "Juan Pablo Rivas",
      "userId": "07914745906899618272"
     },
     "user_tz": 240
    },
    "id": "ZBod4G-RyJni"
   },
   "outputs": [],
   "source": [
    "from sklearn.linear_model import Lasso"
   ]
  },
  {
   "cell_type": "markdown",
   "metadata": {
    "id": "t3mN8WlWyJnk"
   },
   "source": [
    "2. Calculo de hiperparametros y entrenamiento del modelo."
   ]
  },
  {
   "cell_type": "markdown",
   "metadata": {
    "id": "SznnPdCnybKP"
   },
   "source": [
    "Explicacion de los hiperparametros del modelo"
   ]
  },
  {
   "cell_type": "code",
   "execution_count": null,
   "metadata": {
    "executionInfo": {
     "elapsed": 5,
     "status": "ok",
     "timestamp": 1742304728161,
     "user": {
      "displayName": "Juan Pablo Rivas",
      "userId": "07914745906899618272"
     },
     "user_tz": 240
    },
    "id": "vrlUyNhGyL2C"
   },
   "outputs": [],
   "source": [
    "param_grid_lasso = {\n",
    "    'alpha': [0.001, 0.01, 0.1, 1, 10, 100, 1000],\n",
    "    'fit_intercept': [True, False],\n",
    "    'max_iter': [1000, 10000, 100000],\n",
    "    'tol': [1e-3, 1e-4, 1e-5],\n",
    "    'selection': ['cyclic', 'random'],\n",
    "    'warm_start': [True, False]\n",
    "    }"
   ]
  },
  {
   "cell_type": "code",
   "execution_count": null,
   "metadata": {
    "executionInfo": {
     "elapsed": 18,
     "status": "ok",
     "timestamp": 1742304729121,
     "user": {
      "displayName": "Juan Pablo Rivas",
      "userId": "07914745906899618272"
     },
     "user_tz": 240
    },
    "id": "UecCZ4PHjm8w"
   },
   "outputs": [],
   "source": [
    "# Valores óptimos calculados anteriormente\n",
    "param_grid_lasso = {\n",
    "    'alpha': [0.001],\n",
    "    'fit_intercept': [True],\n",
    "    'max_iter': [100000],\n",
    "    'tol': [1e-3],\n",
    "    'selection': ['random'],\n",
    "    'warm_start': [True]\n",
    "}"
   ]
  },
  {
   "cell_type": "code",
   "execution_count": null,
   "metadata": {
    "colab": {
     "base_uri": "https://localhost:8080/",
     "height": 322
    },
    "executionInfo": {
     "elapsed": 165,
     "status": "ok",
     "timestamp": 1742304731821,
     "user": {
      "displayName": "Juan Pablo Rivas",
      "userId": "07914745906899618272"
     },
     "user_tz": 240
    },
    "id": "csEmVkq_7YRe",
    "outputId": "90e994e9-3337-45ba-a85a-112fc8f58d32"
   },
   "outputs": [
    {
     "data": {
      "text/plain": [
       "Traceback (most recent call last):\n",
       "  File \"c:\\Users\\joine\\.vscode\\extensions\\ms-python.python-2025.2.0-win32-x64\\python_files\\python_server.py\", line 133, in exec_user_input\n",
       "    retval = callable_(user_input, user_globals)\n",
       "  File \"<string>\", line 4, in <module>\n",
       "NameError: name 'X_train' is not defined\n",
       "\n"
      ]
     },
     "metadata": {},
     "output_type": "display_data"
    }
   ],
   "source": [
    "grid_search_lasso = GridSearchCV(Lasso(), param_grid_lasso, cv=5, scoring='neg_root_mean_squared_error')\n",
    "\n",
    "# Be quiet! Machine's learning over here\n",
    "grid_search_lasso.fit(X_train, y_train)"
   ]
  },
  {
   "cell_type": "markdown",
   "metadata": {
    "id": "BGbO0o7QyQ9M"
   },
   "source": [
    "3. Resultados obtenidos"
   ]
  },
  {
   "cell_type": "markdown",
   "metadata": {
    "id": "4IIfHISy9qb6"
   },
   "source": [
    "Predicciones:"
   ]
  },
  {
   "cell_type": "code",
   "execution_count": null,
   "metadata": {
    "colab": {
     "base_uri": "https://localhost:8080/"
    },
    "executionInfo": {
     "elapsed": 53,
     "status": "ok",
     "timestamp": 1742304746945,
     "user": {
      "displayName": "Juan Pablo Rivas",
      "userId": "07914745906899618272"
     },
     "user_tz": 240
    },
    "id": "h5sL5htk5mPx",
    "outputId": "3dd9a1fb-5a14-4411-b8e1-71c3d12dc6d9"
   },
   "outputs": [
    {
     "data": {
      "text/plain": [
       "Traceback (most recent call last):\n",
       "  File \"c:\\Users\\joine\\.vscode\\extensions\\ms-python.python-2025.2.0-win32-x64\\python_files\\python_server.py\", line 133, in exec_user_input\n",
       "    retval = callable_(user_input, user_globals)\n",
       "  File \"<string>\", line 1, in <module>\n",
       "AttributeError: 'GridSearchCV' object has no attribute 'best_estimator_'\n",
       "\n"
      ]
     },
     "metadata": {},
     "output_type": "display_data"
    }
   ],
   "source": [
    "lassoModel = grid_search_lasso.best_estimator_\n",
    "\n",
    "lassoPredictions = lassoModel.predict(X_test)\n",
    "\n",
    "print(f\"Las predicciones hechas por el modelo son: {lassoPredictions}\")\n",
    "print(f\"Las etiquetas reales son: {y_test.values}\")"
   ]
  },
  {
   "cell_type": "markdown",
   "metadata": {
    "id": "jv2gT1V6yQ9N"
   },
   "source": [
    "Aca podemos mostrar los resultados de cada modelo, con un reporte para cada uno, matrices de confusion, etc"
   ]
  },
  {
   "cell_type": "code",
   "execution_count": null,
   "metadata": {
    "colab": {
     "base_uri": "https://localhost:8080/"
    },
    "executionInfo": {
     "elapsed": 435,
     "status": "ok",
     "timestamp": 1742304749936,
     "user": {
      "displayName": "Juan Pablo Rivas",
      "userId": "07914745906899618272"
     },
     "user_tz": 240
    },
    "id": "B5DdI-2XyQ9O",
    "outputId": "a1dd07be-d1da-4622-86d5-0702196288af"
   },
   "outputs": [
    {
     "data": {
      "text/plain": [
       "Traceback (most recent call last):\n",
       "  File \"c:\\Users\\joine\\.vscode\\extensions\\ms-python.python-2025.2.0-win32-x64\\python_files\\python_server.py\", line 133, in exec_user_input\n",
       "    retval = callable_(user_input, user_globals)\n",
       "  File \"<string>\", line 1, in <module>\n",
       "NameError: name 'lassoModel' is not defined\n",
       "\n"
      ]
     },
     "metadata": {},
     "output_type": "display_data"
    }
   ],
   "source": [
    "lassoModelRMSE = cross_val_score(lassoModel, X, yProba, cv=5, scoring='neg_root_mean_squared_error')*-1\n",
    "lassoModelMSE = cross_val_score(lassoModel, X, yProba, cv=5, scoring='neg_mean_squared_error')*-1\n",
    "lassoModelr2 = cross_val_score(lassoModel, X, yProba, cv=5, scoring='r2')\n",
    "\n",
    "print(f\"RMSE obtenido por el modelo de Regresión Lineal (Con regularización Lasso) en validación cruzada con 5 slices es de {np.round(np.mean(lassoModelRMSE),50)}\")\n",
    "print(f\"MSE obtenido por el modelo de Regresión Lineal (Con regularización Lasso) en validación cruzada con 5 slices es de {np.round(np.mean(lassoModelMSE),50)}\")\n",
    "print(f\"R^2 obtenido por el modelo de Regresión Lineal (Con regularización Lasso) en validación cruzada con 5 slices es de {np.round(np.mean(lassoModelr2),50)}\")"
   ]
  },
  {
   "cell_type": "markdown",
   "metadata": {
    "id": "-mKVhtSPyjGE"
   },
   "source": [
    "#### Regresión Lineal con regularizacion $l_2$ (Ridge)"
   ]
  },
  {
   "cell_type": "markdown",
   "metadata": {
    "id": "C33FtUkjyjGF"
   },
   "source": [
    "Habladera del modelo(?"
   ]
  },
  {
   "cell_type": "markdown",
   "metadata": {
    "id": "Owkbv4JgyjGF"
   },
   "source": [
    "1. Imports"
   ]
  },
  {
   "cell_type": "code",
   "execution_count": null,
   "metadata": {
    "executionInfo": {
     "elapsed": 5,
     "status": "ok",
     "timestamp": 1742304755778,
     "user": {
      "displayName": "Juan Pablo Rivas",
      "userId": "07914745906899618272"
     },
     "user_tz": 240
    },
    "id": "460bu9pYyjGG"
   },
   "outputs": [],
   "source": [
    "from sklearn.linear_model import Ridge"
   ]
  },
  {
   "cell_type": "markdown",
   "metadata": {
    "id": "0HoPKQEpyjGJ"
   },
   "source": [
    "2. Calculo de hiperparametros y entrenamiento del modelo:"
   ]
  },
  {
   "cell_type": "markdown",
   "metadata": {
    "id": "foOO9_bIyjGJ"
   },
   "source": [
    "Explicacion de los hiperparametros del modelo"
   ]
  },
  {
   "cell_type": "code",
   "execution_count": null,
   "metadata": {
    "executionInfo": {
     "elapsed": 6,
     "status": "ok",
     "timestamp": 1742304757135,
     "user": {
      "displayName": "Juan Pablo Rivas",
      "userId": "07914745906899618272"
     },
     "user_tz": 240
    },
    "id": "kvbsJ3VByjGK"
   },
   "outputs": [],
   "source": [
    "param_grid_ridge = {\n",
    "    'alpha': [0.001, 0.01, 0.1, 1, 10, 100, 1000],\n",
    "    'fit_intercept': [True, False],\n",
    "    'max_iter': [1000, 10000, 100000],\n",
    "    'tol': [1e-3, 1e-4, 1e-5],\n",
    "    'solver': ['auto', 'svd', 'cholesky', 'lsqr', 'sparse_cg', 'sag', 'saga']\n",
    "    }"
   ]
  },
  {
   "cell_type": "code",
   "execution_count": null,
   "metadata": {
    "executionInfo": {
     "elapsed": 5,
     "status": "ok",
     "timestamp": 1742304758356,
     "user": {
      "displayName": "Juan Pablo Rivas",
      "userId": "07914745906899618272"
     },
     "user_tz": 240
    },
    "id": "7UCIwZF1wBEL"
   },
   "outputs": [],
   "source": [
    "param_grid_ridge = {\n",
    "    'alpha': [1],\n",
    "    'fit_intercept': [True],\n",
    "    'max_iter': [10000],\n",
    "    'tol': [1e-3],\n",
    "    'solver': ['sag']\n",
    "}"
   ]
  },
  {
   "cell_type": "code",
   "execution_count": null,
   "metadata": {
    "colab": {
     "base_uri": "https://localhost:8080/",
     "height": 166
    },
    "executionInfo": {
     "elapsed": 838,
     "status": "ok",
     "timestamp": 1742304760175,
     "user": {
      "displayName": "Juan Pablo Rivas",
      "userId": "07914745906899618272"
     },
     "user_tz": 240
    },
    "id": "5RUlhZ4J-FR3",
    "outputId": "c8608a5f-23da-43b2-c997-72db8c776864"
   },
   "outputs": [
    {
     "data": {
      "text/plain": [
       "Traceback (most recent call last):\n",
       "  File \"c:\\Users\\joine\\.vscode\\extensions\\ms-python.python-2025.2.0-win32-x64\\python_files\\python_server.py\", line 133, in exec_user_input\n",
       "    retval = callable_(user_input, user_globals)\n",
       "  File \"<string>\", line 4, in <module>\n",
       "NameError: name 'X_train' is not defined\n",
       "\n"
      ]
     },
     "metadata": {},
     "output_type": "display_data"
    }
   ],
   "source": [
    "grid_search_ridge = GridSearchCV(Ridge(), param_grid_ridge, cv=5, scoring='neg_root_mean_squared_error')\n",
    "\n",
    "# Be quiet! Machine's learning over here\n",
    "grid_search_ridge.fit(X_train, y_train)"
   ]
  },
  {
   "cell_type": "markdown",
   "metadata": {
    "id": "eXcFXz4xyjGL"
   },
   "source": [
    "3. Resultados obtenidos"
   ]
  },
  {
   "cell_type": "markdown",
   "metadata": {
    "id": "bSpVv-u-yjGL"
   },
   "source": [
    "Aca podemos mostrar los resultados de cada modelo, con un reporte para cada uno, matrices de confusion, etc"
   ]
  },
  {
   "cell_type": "code",
   "execution_count": null,
   "metadata": {
    "colab": {
     "base_uri": "https://localhost:8080/"
    },
    "executionInfo": {
     "elapsed": 11,
     "status": "ok",
     "timestamp": 1742304761286,
     "user": {
      "displayName": "Juan Pablo Rivas",
      "userId": "07914745906899618272"
     },
     "user_tz": 240
    },
    "id": "FD9RmyulyjGM",
    "outputId": "7f8ae48e-4fe6-4182-d0df-08487da4d0ed"
   },
   "outputs": [
    {
     "data": {
      "text/plain": [
       "Traceback (most recent call last):\n",
       "  File \"c:\\Users\\joine\\.vscode\\extensions\\ms-python.python-2025.2.0-win32-x64\\python_files\\python_server.py\", line 133, in exec_user_input\n",
       "    retval = callable_(user_input, user_globals)\n",
       "  File \"<string>\", line 1, in <module>\n",
       "AttributeError: 'GridSearchCV' object has no attribute 'best_estimator_'\n",
       "\n"
      ]
     },
     "metadata": {},
     "output_type": "display_data"
    }
   ],
   "source": [
    "ridgeModel = grid_search_ridge.best_estimator_\n",
    "ridgePredictions = ridgeModel.predict(X_test)\n",
    "\n",
    "print(f\"Las predicciones hechas por el modelo son: {ridgePredictions}\")\n",
    "print(f\"Las etiquetas reales son: {y_test.values}\")"
   ]
  },
  {
   "cell_type": "code",
   "execution_count": null,
   "metadata": {
    "colab": {
     "base_uri": "https://localhost:8080/"
    },
    "executionInfo": {
     "elapsed": 3129,
     "status": "ok",
     "timestamp": 1742304770103,
     "user": {
      "displayName": "Juan Pablo Rivas",
      "userId": "07914745906899618272"
     },
     "user_tz": 240
    },
    "id": "BVGXRSsIEljT",
    "outputId": "b18f4d9b-5c3e-44f8-ef5e-432930e2e775"
   },
   "outputs": [
    {
     "data": {
      "text/plain": [
       "Traceback (most recent call last):\n",
       "  File \"c:\\Users\\joine\\.vscode\\extensions\\ms-python.python-2025.2.0-win32-x64\\python_files\\python_server.py\", line 133, in exec_user_input\n",
       "    retval = callable_(user_input, user_globals)\n",
       "  File \"<string>\", line 1, in <module>\n",
       "NameError: name 'ridgeModel' is not defined\n",
       "\n"
      ]
     },
     "metadata": {},
     "output_type": "display_data"
    }
   ],
   "source": [
    "ridgeModelRMSE = cross_val_score(ridgeModel, X, yProba, cv=5, scoring='neg_root_mean_squared_error')*-1\n",
    "ridgeModelMSE = cross_val_score(ridgeModel, X, yProba, cv=5, scoring='neg_mean_squared_error')*-1\n",
    "ridgeModelr2 = cross_val_score(ridgeModel, X, yProba, cv=5, scoring='r2')\n",
    "\n",
    "print(f\"RMSE obtenido por el modelo de Regresión Lineal (Con regularización Ridge) en validación cruzada con 5 slices es de {np.round(np.mean(ridgeModelRMSE),50)}\")\n",
    "print(f\"MSE obtenido por el modelo de Regresión Lineal (Con regularización Ridge) en validación cruzada con 5 slices es de {np.round(np.mean(ridgeModelMSE),50)}\")\n",
    "print(f\"R^2 obtenido por el modelo de Regresión Lineal (Con regularización Ridge) en validación cruzada con 5 slices es de {np.round(np.mean(ridgeModelr2),50)}\")"
   ]
  },
  {
   "cell_type": "markdown",
   "metadata": {
    "id": "qdQGwSpv56IS"
   },
   "source": [
    "#### Redes Elásticas"
   ]
  },
  {
   "cell_type": "markdown",
   "metadata": {
    "id": "FNigcutA56IT"
   },
   "source": [
    "Habladera del modelo(?"
   ]
  },
  {
   "cell_type": "markdown",
   "metadata": {
    "id": "EDI1NMXC56IU"
   },
   "source": [
    "1. Imports"
   ]
  },
  {
   "cell_type": "code",
   "execution_count": null,
   "metadata": {
    "executionInfo": {
     "elapsed": 3,
     "status": "ok",
     "timestamp": 1742304785136,
     "user": {
      "displayName": "Juan Pablo Rivas",
      "userId": "07914745906899618272"
     },
     "user_tz": 240
    },
    "id": "UuIDlyn556IU"
   },
   "outputs": [],
   "source": [
    "from sklearn.linear_model import ElasticNet\n",
    "from sklearn.linear_model import ElasticNetCV"
   ]
  },
  {
   "cell_type": "markdown",
   "metadata": {
    "id": "qwnHaDIr56IV"
   },
   "source": [
    "2. Calculo de hiperparametros"
   ]
  },
  {
   "cell_type": "markdown",
   "metadata": {
    "id": "wOv8dOUw56IW"
   },
   "source": [
    "Explicacion de los hiperparametros del modelo"
   ]
  },
  {
   "cell_type": "code",
   "execution_count": null,
   "metadata": {
    "executionInfo": {
     "elapsed": 1,
     "status": "ok",
     "timestamp": 1742304787080,
     "user": {
      "displayName": "Juan Pablo Rivas",
      "userId": "07914745906899618272"
     },
     "user_tz": 240
    },
    "id": "9YZLOr2X56IW"
   },
   "outputs": [],
   "source": [
    "param_grid_net = {\n",
    "    'alpha': [0.001, 0.01, 0.1, 1, 10, 100],\n",
    "    'l1_ratio': [0.1, 0.2, 0.3, 0.4, 0.5, 0.6, 0.7, 0.8, 0.9],\n",
    "    'fit_intercept': [True, False],\n",
    "    'max_iter': [1000, 10000, 100000],\n",
    "    'tol': [1e-3, 1e-4, 1e-5],\n",
    "    'selection': ['cyclic', 'random'],\n",
    "    'warm_start': [True, False]\n",
    "    }"
   ]
  },
  {
   "cell_type": "code",
   "execution_count": null,
   "metadata": {
    "executionInfo": {
     "elapsed": 27,
     "status": "ok",
     "timestamp": 1742304787888,
     "user": {
      "displayName": "Juan Pablo Rivas",
      "userId": "07914745906899618272"
     },
     "user_tz": 240
    },
    "id": "liqHQi6F8Z93"
   },
   "outputs": [],
   "source": [
    "param_grid_net = {\n",
    "    'alpha': [0.001],\n",
    "    'l1_ratio': [0.1],\n",
    "    'fit_intercept': [True],\n",
    "    'max_iter': [100000],\n",
    "    'tol': [1e-3],\n",
    "    'selection': ['random'],\n",
    "    'warm_start': [True]\n",
    "}"
   ]
  },
  {
   "cell_type": "code",
   "execution_count": null,
   "metadata": {
    "colab": {
     "base_uri": "https://localhost:8080/",
     "height": 166
    },
    "executionInfo": {
     "elapsed": 198,
     "status": "ok",
     "timestamp": 1742304789187,
     "user": {
      "displayName": "Juan Pablo Rivas",
      "userId": "07914745906899618272"
     },
     "user_tz": 240
    },
    "id": "VoUuptM056IX",
    "outputId": "758b9ef4-0b6f-4af8-fc14-6ac29c87b286"
   },
   "outputs": [
    {
     "data": {
      "text/plain": [
       "Traceback (most recent call last):\n",
       "  File \"c:\\Users\\joine\\.vscode\\extensions\\ms-python.python-2025.2.0-win32-x64\\python_files\\python_server.py\", line 133, in exec_user_input\n",
       "    retval = callable_(user_input, user_globals)\n",
       "  File \"<string>\", line 4, in <module>\n",
       "NameError: name 'X_train' is not defined\n",
       "\n"
      ]
     },
     "metadata": {},
     "output_type": "display_data"
    }
   ],
   "source": [
    "grid_search_elasticnet = GridSearchCV(ElasticNet(), param_grid_net, cv=5, scoring='neg_root_mean_squared_error')\n",
    "\n",
    "# Be quiet! Machine's learning over here\n",
    "grid_search_elasticnet.fit(X_train, y_train)"
   ]
  },
  {
   "cell_type": "markdown",
   "metadata": {
    "id": "MbiaZpwS56IY"
   },
   "source": [
    "3. Resultados obtenidos"
   ]
  },
  {
   "cell_type": "markdown",
   "metadata": {
    "id": "Q9UXETIZ56IZ"
   },
   "source": [
    "Aca podemos mostrar los resultados de cada modelo, con un reporte para cada uno, matrices de confusion, etc"
   ]
  },
  {
   "cell_type": "code",
   "execution_count": null,
   "metadata": {
    "colab": {
     "base_uri": "https://localhost:8080/"
    },
    "executionInfo": {
     "elapsed": 7,
     "status": "ok",
     "timestamp": 1742304791288,
     "user": {
      "displayName": "Juan Pablo Rivas",
      "userId": "07914745906899618272"
     },
     "user_tz": 240
    },
    "id": "H0XG2vkq56Ia",
    "outputId": "2eec4fdb-d36f-43d2-e3a1-92452debd347"
   },
   "outputs": [
    {
     "data": {
      "text/plain": [
       "Traceback (most recent call last):\n",
       "  File \"c:\\Users\\joine\\.vscode\\extensions\\ms-python.python-2025.2.0-win32-x64\\python_files\\python_server.py\", line 133, in exec_user_input\n",
       "    retval = callable_(user_input, user_globals)\n",
       "  File \"<string>\", line 1, in <module>\n",
       "AttributeError: 'GridSearchCV' object has no attribute 'best_estimator_'\n",
       "\n"
      ]
     },
     "metadata": {},
     "output_type": "display_data"
    }
   ],
   "source": [
    "elasticNetModel = grid_search_elasticnet.best_estimator_\n",
    "elasticNetPredictions = elasticNetModel.predict(X_test)\n",
    "\n",
    "print(f\"Las predicciones hechas por el modelo son: {elasticNetPredictions}\")\n",
    "print(f\"Las etiquetas reales son: {y_test.values}\")"
   ]
  },
  {
   "cell_type": "code",
   "execution_count": null,
   "metadata": {
    "colab": {
     "base_uri": "https://localhost:8080/"
    },
    "executionInfo": {
     "elapsed": 564,
     "status": "ok",
     "timestamp": 1742304792969,
     "user": {
      "displayName": "Juan Pablo Rivas",
      "userId": "07914745906899618272"
     },
     "user_tz": 240
    },
    "id": "b-4ISHOT8tDs",
    "outputId": "ea7685a7-5ca1-4765-ff81-c2f508484e37"
   },
   "outputs": [
    {
     "data": {
      "text/plain": [
       "Traceback (most recent call last):\n",
       "  File \"c:\\Users\\joine\\.vscode\\extensions\\ms-python.python-2025.2.0-win32-x64\\python_files\\python_server.py\", line 133, in exec_user_input\n",
       "    retval = callable_(user_input, user_globals)\n",
       "  File \"<string>\", line 1, in <module>\n",
       "NameError: name 'elasticNetModel' is not defined\n",
       "\n"
      ]
     },
     "metadata": {},
     "output_type": "display_data"
    }
   ],
   "source": [
    "elasticNetModelRMSE = cross_val_score(elasticNetModel, X, yProba, cv=5, scoring='neg_root_mean_squared_error')*-1\n",
    "elasticNetModelMSE = cross_val_score(elasticNetModel, X, yProba, cv=5, scoring='neg_mean_squared_error')*-1\n",
    "elasticNetModelr2 = cross_val_score(elasticNetModel, X, yProba, cv=5, scoring='r2')\n",
    "\n",
    "print(f\"RMSE obtenido por el modelo de Regresión Lineal (Con regularización ElasticNet) en validación cruzada con 5 slices es de {np.round(np.mean(elasticNetModelRMSE),50)}\")\n",
    "print(f\"MSE obtenido por el modelo de Regresión Lineal (Con regularización ElasticNet) en validación cruzada con 5 slices es de {np.round(np.mean(elasticNetModelMSE),50)}\")\n",
    "print(f\"R^2 obtenido por el modelo de Regresión Lineal (Con regularización ElasticNet) en validación cruzada con 5 slices es de {np.round(np.mean(elasticNetModelr2),50)}\")"
   ]
  },
  {
   "cell_type": "markdown",
   "metadata": {
    "id": "W316cwYJySZF"
   },
   "source": [
    "#### K-Vecinos para Regresión"
   ]
  },
  {
   "cell_type": "markdown",
   "metadata": {
    "id": "dt7x6wtQySZG"
   },
   "source": [
    "Habladera del modelo(?"
   ]
  },
  {
   "cell_type": "markdown",
   "metadata": {
    "id": "WYtv75UzySZG"
   },
   "source": [
    "1. Imports"
   ]
  },
  {
   "cell_type": "code",
   "execution_count": null,
   "metadata": {
    "executionInfo": {
     "elapsed": 191,
     "status": "ok",
     "timestamp": 1742304815070,
     "user": {
      "displayName": "Juan Pablo Rivas",
      "userId": "07914745906899618272"
     },
     "user_tz": 240
    },
    "id": "eBF9vow3ySZG"
   },
   "outputs": [],
   "source": [
    "from sklearn.neighbors import KNeighborsRegressor"
   ]
  },
  {
   "cell_type": "markdown",
   "metadata": {
    "id": "YjkY-9ZpySZG"
   },
   "source": [
    "2. Calculo de hiperparametros"
   ]
  },
  {
   "cell_type": "markdown",
   "metadata": {
    "id": "i7Tpv1Z8ySZG"
   },
   "source": [
    "Explicacion de los hiperparametros del modelo"
   ]
  },
  {
   "cell_type": "code",
   "execution_count": null,
   "metadata": {
    "executionInfo": {
     "elapsed": 22,
     "status": "ok",
     "timestamp": 1742304915276,
     "user": {
      "displayName": "Juan Pablo Rivas",
      "userId": "07914745906899618272"
     },
     "user_tz": 240
    },
    "id": "kWT4VuGPySZG"
   },
   "outputs": [],
   "source": [
    "param_grid_knn = {\n",
    "    'n_neighbors' : [1, 3, 5, 7, 9, 11, 13, 15],\n",
    "    'metric' : ['minkowski', 'euclidean', 'chebyshev', 'cosine'],\n",
    "    'weights' : ['uniform', 'distance'],\n",
    "    'algorithm' : ['auto',  'brute'],\n",
    "    'leaf_size' : [20, 30, 40]\n",
    "}"
   ]
  },
  {
   "cell_type": "code",
   "execution_count": null,
   "metadata": {
    "id": "cjv6JIRtdhp4"
   },
   "outputs": [],
   "source": []
  },
  {
   "cell_type": "code",
   "execution_count": null,
   "metadata": {
    "id": "kgbhZfJldhll"
   },
   "outputs": [
    {
     "data": {
      "text/plain": [
       "Traceback (most recent call last):\n",
       "  File \"c:\\Users\\joine\\.vscode\\extensions\\ms-python.python-2025.2.0-win32-x64\\python_files\\python_server.py\", line 133, in exec_user_input\n",
       "    retval = callable_(user_input, user_globals)\n",
       "  File \"<string>\", line 4, in <module>\n",
       "NameError: name 'X_train' is not defined\n",
       "\n"
      ]
     },
     "metadata": {},
     "output_type": "display_data"
    }
   ],
   "source": [
    "grid_search_k_neighbors = GridSearchCV(KNeighborsRegressor(), param_grid_knn, cv=5, scoring='neg_root_mean_squared_error')\n",
    "\n",
    "# Be quiet! Machine's learning over here\n",
    "grid_search_k_neighbors.fit(X_train, y_train)"
   ]
  },
  {
   "cell_type": "markdown",
   "metadata": {
    "id": "EICnntCdySZG"
   },
   "source": [
    "3. Resultados obtenidos"
   ]
  },
  {
   "cell_type": "markdown",
   "metadata": {
    "id": "b6dV5F9BySZG"
   },
   "source": [
    "Aca podemos mostrar los resultados de cada modelo, con un reporte para cada uno, matrices de confusion, etc"
   ]
  },
  {
   "cell_type": "code",
   "execution_count": null,
   "metadata": {
    "id": "6ayK1BD5ySZH"
   },
   "outputs": [
    {
     "data": {
      "text/plain": [
       "Traceback (most recent call last):\n",
       "  File \"c:\\Users\\joine\\.vscode\\extensions\\ms-python.python-2025.2.0-win32-x64\\python_files\\python_server.py\", line 133, in exec_user_input\n",
       "    retval = callable_(user_input, user_globals)\n",
       "  File \"<string>\", line 1, in <module>\n",
       "AttributeError: 'GridSearchCV' object has no attribute 'best_estimator_'\n",
       "\n"
      ]
     },
     "metadata": {},
     "output_type": "display_data"
    }
   ],
   "source": [
    "KNeighborsModel = grid_search_k_neighbors.best_estimator_\n",
    "KNeighborsPredictions = KNeighborsModel.predict(X_test)\n",
    "\n",
    "print(f\"Las predicciones hechas por el modelo son: {KNeighborsPredictions}\")\n",
    "print(f\"Las etiquetas reales son: {y_test.values}\")"
   ]
  },
  {
   "cell_type": "markdown",
   "metadata": {
    "id": "Jq8WErGXyWdE"
   },
   "source": [
    "#### Máquinas de Soporte Vectorial para Regresión"
   ]
  },
  {
   "cell_type": "markdown",
   "metadata": {
    "id": "gQJE0-nHyWdE"
   },
   "source": [
    "Habladera del modelo(?"
   ]
  },
  {
   "cell_type": "markdown",
   "metadata": {
    "id": "SCwIeIh1yWdE"
   },
   "source": [
    "1. Imports"
   ]
  },
  {
   "cell_type": "code",
   "execution_count": null,
   "metadata": {
    "id": "cHQG27WUyWdE"
   },
   "outputs": [],
   "source": [
    "from sklearn.svm import SVR\n"
   ]
  },
  {
   "cell_type": "markdown",
   "metadata": {
    "id": "X5OmnWYCyWdF"
   },
   "source": [
    "2. Calculo de hiperparametros"
   ]
  },
  {
   "cell_type": "markdown",
   "metadata": {
    "id": "kbR8vclcyWdF"
   },
   "source": [
    "Explicacion de los hiperparametros del modelo"
   ]
  },
  {
   "cell_type": "code",
   "execution_count": null,
   "metadata": {
    "id": "T8VLBh3Ye43Z"
   },
   "outputs": [],
   "source": [
    "param_grid_svr = {\n",
    "    'C': [0.1, 1, 10],\n",
    "    'kernel': ['linear', 'poly', 'rbf', 'sigmoid'],\n",
    "    'gamma': [0.1, 1, 10],\n",
    "    'coef0': [0, 1, 10],\n",
    "    'degree': [2, 3, 4, 5]\n",
    "}"
   ]
  },
  {
   "cell_type": "code",
   "execution_count": null,
   "metadata": {
    "id": "c6WPn_U_e43Z"
   },
   "outputs": [],
   "source": []
  },
  {
   "cell_type": "code",
   "execution_count": null,
   "metadata": {
    "id": "u5rJY-5ve43a"
   },
   "outputs": [
    {
     "data": {
      "text/plain": [
       "Traceback (most recent call last):\n",
       "  File \"c:\\Users\\joine\\.vscode\\extensions\\ms-python.python-2025.2.0-win32-x64\\python_files\\python_server.py\", line 133, in exec_user_input\n",
       "    retval = callable_(user_input, user_globals)\n",
       "  File \"<string>\", line 4, in <module>\n",
       "NameError: name 'X_train' is not defined\n",
       "\n"
      ]
     },
     "metadata": {},
     "output_type": "display_data"
    }
   ],
   "source": [
    "grid_search_support_vector_regressor = GridSearchCV(SVR(), param_grid_svr, cv=5, scoring='neg_root_mean_squared_error')\n",
    "\n",
    "# Be quiet! Machine's learning over here\n",
    "grid_search_support_vector_regressor.fit(X_train, y_train)"
   ]
  },
  {
   "cell_type": "markdown",
   "metadata": {
    "id": "jUI_LycjyWdF"
   },
   "source": [
    "3. Resultados obtenidos"
   ]
  },
  {
   "cell_type": "markdown",
   "metadata": {
    "id": "SHZGphu7yWdF"
   },
   "source": [
    "Aca podemos mostrar los resultados de cada modelo, con un reporte para cada uno, matrices de confusion, etc"
   ]
  },
  {
   "cell_type": "code",
   "execution_count": null,
   "metadata": {
    "id": "SQl9MlXhfZi2"
   },
   "outputs": [
    {
     "data": {
      "text/plain": [
       "Traceback (most recent call last):\n",
       "  File \"c:\\Users\\joine\\.vscode\\extensions\\ms-python.python-2025.2.0-win32-x64\\python_files\\python_server.py\", line 133, in exec_user_input\n",
       "    retval = callable_(user_input, user_globals)\n",
       "  File \"<string>\", line 1, in <module>\n",
       "AttributeError: 'GridSearchCV' object has no attribute 'best_estimator_'\n",
       "\n"
      ]
     },
     "metadata": {},
     "output_type": "display_data"
    }
   ],
   "source": [
    "SupportVectorRegressorModel = grid_search_support_vector_regressor.best_estimator_\n",
    "SupportVectorRegressorPredictions = SupportVectorRegressorModel.predict(X_test)\n",
    "\n",
    "print(f\"Las predicciones hechas por el modelo son: {SupportVectorRegressorPredictions}\")\n",
    "print(f\"Las etiquetas reales son: {y_test.values}\")"
   ]
  },
  {
   "cell_type": "code",
   "execution_count": null,
   "metadata": {
    "id": "QYLgStUCyWdF"
   },
   "outputs": [],
   "source": []
  },
  {
   "cell_type": "markdown",
   "metadata": {
    "id": "gdx0ZmFbyWiU"
   },
   "source": [
    "#### Árbol de Decisión para Regresión"
   ]
  },
  {
   "cell_type": "markdown",
   "metadata": {
    "id": "6sLSn1i2yWiU"
   },
   "source": [
    "Habladera del modelo(?"
   ]
  },
  {
   "cell_type": "markdown",
   "metadata": {
    "id": "HrWub06CyWiU"
   },
   "source": [
    "1. Imports"
   ]
  },
  {
   "cell_type": "code",
   "execution_count": null,
   "metadata": {
    "id": "SlRVZvdhyWiU"
   },
   "outputs": [],
   "source": [
    "from sklearn.tree import DecisionTreeRegressor\n"
   ]
  },
  {
   "cell_type": "markdown",
   "metadata": {
    "id": "ymZNoU12yWiU"
   },
   "source": [
    "2. Calculo de hiperparametros"
   ]
  },
  {
   "cell_type": "markdown",
   "metadata": {
    "id": "9Yw0uLE9yWiV"
   },
   "source": [
    "Explicacion de los hiperparametros del modelo"
   ]
  },
  {
   "cell_type": "code",
   "execution_count": null,
   "metadata": {
    "id": "YicLHm0lf8Gs"
   },
   "outputs": [],
   "source": [
    "param_grid_dt = {\n",
    "    'max_depth': [None, 5, 10, 15],\n",
    "    'min_samples_split': [2, 5, 10],\n",
    "    'min_samples_leaf': [1, 5, 10],\n",
    "    'criterion': ['squared_error', 'absolute_error']\n",
    "}"
   ]
  },
  {
   "cell_type": "code",
   "execution_count": null,
   "metadata": {
    "id": "vSQes5Yif8Gt"
   },
   "outputs": [],
   "source": []
  },
  {
   "cell_type": "code",
   "execution_count": null,
   "metadata": {
    "id": "IIc6oZB2f8Gt"
   },
   "outputs": [
    {
     "data": {
      "text/plain": [
       "Traceback (most recent call last):\n",
       "  File \"c:\\Users\\joine\\.vscode\\extensions\\ms-python.python-2025.2.0-win32-x64\\python_files\\python_server.py\", line 133, in exec_user_input\n",
       "    retval = callable_(user_input, user_globals)\n",
       "  File \"<string>\", line 4, in <module>\n",
       "NameError: name 'X_train' is not defined\n",
       "\n"
      ]
     },
     "metadata": {},
     "output_type": "display_data"
    }
   ],
   "source": [
    "grid_search_decision_tree_regressor = GridSearchCV(DecisionTreeRegressor(), param_grid_dt, cv=5, scoring='neg_root_mean_squared_error')\n",
    "\n",
    "# Be quiet! Machine's learning over here\n",
    "grid_search_decision_tree_regressor.fit(X_train, y_train)"
   ]
  },
  {
   "cell_type": "markdown",
   "metadata": {
    "id": "t6iMXKphyWiV"
   },
   "source": [
    "3. Resultados obtenidos"
   ]
  },
  {
   "cell_type": "markdown",
   "metadata": {
    "id": "IjKkMWa9yWiV"
   },
   "source": [
    "Aca podemos mostrar los resultados de cada modelo, con un reporte para cada uno, matrices de confusion, etc"
   ]
  },
  {
   "cell_type": "code",
   "execution_count": null,
   "metadata": {
    "id": "BsdqwuLRgYCY"
   },
   "outputs": [
    {
     "data": {
      "text/plain": [
       "Traceback (most recent call last):\n",
       "  File \"c:\\Users\\joine\\.vscode\\extensions\\ms-python.python-2025.2.0-win32-x64\\python_files\\python_server.py\", line 133, in exec_user_input\n",
       "    retval = callable_(user_input, user_globals)\n",
       "  File \"<string>\", line 1, in <module>\n",
       "AttributeError: 'GridSearchCV' object has no attribute 'best_estimator_'\n",
       "\n"
      ]
     },
     "metadata": {},
     "output_type": "display_data"
    }
   ],
   "source": [
    "DecisionTreeRegressorModel = grid_search_decision_tree_regressor.best_estimator_\n",
    "DecisionTreeRegressorPredictions = DecisionTreeRegressorModel.predict(X_test)\n",
    "\n",
    "print(f\"Las predicciones hechas por el modelo son: {DecisionTreeRegressorPredictions}\")\n",
    "print(f\"Las etiquetas reales son: {y_test.values}\")"
   ]
  },
  {
   "cell_type": "code",
   "execution_count": null,
   "metadata": {
    "id": "pMIgabCIyWiV"
   },
   "outputs": [],
   "source": []
  },
  {
   "cell_type": "markdown",
   "metadata": {
    "id": "aQv8CONDyWmU"
   },
   "source": [
    "#### Random Forest para Regresión"
   ]
  },
  {
   "cell_type": "markdown",
   "metadata": {
    "id": "32FrqNlTyWmU"
   },
   "source": [
    "Habladera del modelo(?"
   ]
  },
  {
   "cell_type": "markdown",
   "metadata": {
    "id": "sXw2BY0lyWmU"
   },
   "source": [
    "1. Imports"
   ]
  },
  {
   "cell_type": "code",
   "execution_count": null,
   "metadata": {
    "id": "JHctrxiuyWmV"
   },
   "outputs": [],
   "source": [
    "from sklearn.ensemble import RandomForestRegressor"
   ]
  },
  {
   "cell_type": "markdown",
   "metadata": {
    "id": "QocnMM-3yWmV"
   },
   "source": [
    "2. Calculo de hiperparametros"
   ]
  },
  {
   "cell_type": "markdown",
   "metadata": {
    "id": "WPG8zURHyWmV"
   },
   "source": [
    "Explicacion de los hiperparametros del modelo"
   ]
  },
  {
   "cell_type": "code",
   "execution_count": null,
   "metadata": {
    "id": "4h-H_d6uhEx6"
   },
   "outputs": [],
   "source": [
    "param_grid_rf = {\n",
    "    'n_estimators': [10, 50, 100, 200],\n",
    "    'max_depth': [None, 5, 10, 15],\n",
    "    'min_samples_split': [2, 5, 10],\n",
    "    'min_samples_leaf': [1, 5, 10],\n",
    "    'bootstrap': [True, False]\n",
    "}"
   ]
  },
  {
   "cell_type": "code",
   "execution_count": null,
   "metadata": {
    "id": "kg-ZQWwAhEx7"
   },
   "outputs": [],
   "source": []
  },
  {
   "cell_type": "code",
   "execution_count": null,
   "metadata": {
    "id": "SAVunT71hEx7"
   },
   "outputs": [
    {
     "data": {
      "text/plain": [
       "Traceback (most recent call last):\n",
       "  File \"c:\\Users\\joine\\.vscode\\extensions\\ms-python.python-2025.2.0-win32-x64\\python_files\\python_server.py\", line 133, in exec_user_input\n",
       "    retval = callable_(user_input, user_globals)\n",
       "  File \"<string>\", line 4, in <module>\n",
       "NameError: name 'X_train' is not defined\n",
       "\n"
      ]
     },
     "metadata": {},
     "output_type": "display_data"
    }
   ],
   "source": [
    "grid_search_random_forest_regressor = GridSearchCV(RandomForestRegressor(), param_grid_rf, cv=5, scoring='neg_root_mean_squared_error')\n",
    "\n",
    "# Be quiet! Machine's learning over here\n",
    "grid_search_random_forest_regressor.fit(X_train, y_train)"
   ]
  },
  {
   "cell_type": "code",
   "execution_count": null,
   "metadata": {
    "id": "FYqvk-IlyWmV"
   },
   "outputs": [],
   "source": []
  },
  {
   "cell_type": "markdown",
   "metadata": {
    "id": "gUgjl1SxyWmV"
   },
   "source": [
    "3. Resultados obtenidos"
   ]
  },
  {
   "cell_type": "markdown",
   "metadata": {
    "id": "La29iTT2yWmV"
   },
   "source": [
    "Aca podemos mostrar los resultados de cada modelo, con un reporte para cada uno, matrices de confusion, etc"
   ]
  },
  {
   "cell_type": "code",
   "execution_count": null,
   "metadata": {
    "id": "nAz8WpldhdXp"
   },
   "outputs": [
    {
     "data": {
      "text/plain": [
       "Traceback (most recent call last):\n",
       "  File \"c:\\Users\\joine\\.vscode\\extensions\\ms-python.python-2025.2.0-win32-x64\\python_files\\python_server.py\", line 133, in exec_user_input\n",
       "    retval = callable_(user_input, user_globals)\n",
       "  File \"<string>\", line 1, in <module>\n",
       "AttributeError: 'GridSearchCV' object has no attribute 'best_estimator_'\n",
       "\n"
      ]
     },
     "metadata": {},
     "output_type": "display_data"
    }
   ],
   "source": [
    "RandomForestRegressorModel = grid_search_random_forest_regressor.best_estimator_\n",
    "RandomForestRegressorPredictions = RandomForestRegressorModel.predict(X_test)\n",
    "\n",
    "print(f\"Las predicciones hechas por el modelo son: {RandomForestRegressorPredictions}\")\n",
    "print(f\"Las etiquetas reales son: {y_test.values}\")"
   ]
  },
  {
   "cell_type": "code",
   "execution_count": null,
   "metadata": {
    "id": "bhDc8bpcyWmV"
   },
   "outputs": [],
   "source": []
  },
  {
   "cell_type": "markdown",
   "metadata": {
    "id": "jfm-BeO90WA5"
   },
   "source": [
    "### Conclusiones"
   ]
  },
  {
   "cell_type": "markdown",
   "metadata": {
    "id": "gc2zPTWQ0Yaw"
   },
   "source": [
    "Habladera de que modelo vamos a elegir al final y justificar porque, ademas de agregar la parte de almacenar el modelo"
   ]
  },
  {
   "cell_type": "code",
   "execution_count": null,
   "metadata": {
    "id": "7AVRs3-p1mXo"
   },
   "outputs": [],
   "source": []
  },
  {
   "cell_type": "markdown",
   "metadata": {
    "id": "X0TipHZMgR2S"
   },
   "source": [
    "## Parte 3: Modelo de aprendizaje no supervisado"
   ]
  },
  {
   "cell_type": "markdown",
   "metadata": {
    "id": "OZse8tTnjaS-"
   },
   "source": [
    "Same as above, explicación de como el modelo va a solucionar un problema planteado"
   ]
  },
  {
   "cell_type": "markdown",
   "metadata": {
    "id": "mblyY78ljN3X"
   },
   "source": [
    "### Comparativa entre modelos propuestos"
   ]
  },
  {
   "cell_type": "markdown",
   "metadata": {
    "id": "ieW1wBfwyp3O"
   },
   "source": [
    "#### Modelo 1"
   ]
  },
  {
   "cell_type": "markdown",
   "metadata": {
    "id": "sb9LCvM_yp3P"
   },
   "source": [
    "Habladera del modelo(?"
   ]
  },
  {
   "cell_type": "markdown",
   "metadata": {
    "id": "C8JaW_Hhyp3P"
   },
   "source": [
    "1. Imports"
   ]
  },
  {
   "cell_type": "code",
   "execution_count": null,
   "metadata": {
    "id": "pz_CcFQ3yp3Q"
   },
   "outputs": [],
   "source": []
  },
  {
   "cell_type": "markdown",
   "metadata": {
    "id": "pShpiCslyp3Q"
   },
   "source": [
    "2. Metricas a usar para medir el rendimiento"
   ]
  },
  {
   "cell_type": "markdown",
   "metadata": {
    "id": "80cU7t4oyp3R"
   },
   "source": [
    "Breve explicacion de las metricas y justificacion de su uso."
   ]
  },
  {
   "cell_type": "code",
   "execution_count": null,
   "metadata": {
    "id": "ujijuZ_myp3R"
   },
   "outputs": [],
   "source": []
  },
  {
   "cell_type": "markdown",
   "metadata": {
    "id": "_8iYMgv0yp3S"
   },
   "source": [
    "3. Calculo de hiperparametros"
   ]
  },
  {
   "cell_type": "markdown",
   "metadata": {
    "id": "EeBM-oifyp3S"
   },
   "source": [
    "Explicacion de los hiperparametros del modelo"
   ]
  },
  {
   "cell_type": "code",
   "execution_count": null,
   "metadata": {
    "id": "OyglfBzgyp3T"
   },
   "outputs": [],
   "source": []
  },
  {
   "cell_type": "markdown",
   "metadata": {
    "id": "Gx82yKf6yp3T"
   },
   "source": [
    "4. Resultados obtenidos"
   ]
  },
  {
   "cell_type": "markdown",
   "metadata": {
    "id": "tFP61hWuyp3U"
   },
   "source": [
    "Aca podemos mostrar los resultados de cada modelo, con un reporte para cada uno, matrices de confusion, etc"
   ]
  },
  {
   "cell_type": "code",
   "execution_count": null,
   "metadata": {
    "id": "pF1RgHj-yp3U"
   },
   "outputs": [],
   "source": []
  },
  {
   "cell_type": "markdown",
   "metadata": {
    "id": "S59fm1vzy3bh"
   },
   "source": [
    "#### Modelo 2"
   ]
  },
  {
   "cell_type": "markdown",
   "metadata": {
    "id": "iV7aRZKGy3bi"
   },
   "source": [
    "Habladera del modelo(?"
   ]
  },
  {
   "cell_type": "markdown",
   "metadata": {
    "id": "HXKFxfjUy3bj"
   },
   "source": [
    "1. Imports"
   ]
  },
  {
   "cell_type": "code",
   "execution_count": null,
   "metadata": {
    "id": "LvlqZbpFy3bk"
   },
   "outputs": [],
   "source": []
  },
  {
   "cell_type": "markdown",
   "metadata": {
    "id": "THi5soECy3bl"
   },
   "source": [
    "2. Metricas a usar para medir el rendimiento"
   ]
  },
  {
   "cell_type": "markdown",
   "metadata": {
    "id": "Kcuhty2Oy3bm"
   },
   "source": [
    "Breve explicacion de las metricas y justificacion de su uso."
   ]
  },
  {
   "cell_type": "code",
   "execution_count": null,
   "metadata": {
    "id": "h4CIxAuJy3bn"
   },
   "outputs": [],
   "source": []
  },
  {
   "cell_type": "markdown",
   "metadata": {
    "id": "vPpchIpgy3bo"
   },
   "source": [
    "3. Calculo de hiperparametros"
   ]
  },
  {
   "cell_type": "markdown",
   "metadata": {
    "id": "m0y2S6WQy3bo"
   },
   "source": [
    "Explicacion de los hiperparametros del modelo"
   ]
  },
  {
   "cell_type": "code",
   "execution_count": null,
   "metadata": {
    "id": "q12FJ4cjy3bp"
   },
   "outputs": [],
   "source": []
  },
  {
   "cell_type": "markdown",
   "metadata": {
    "id": "UPC2HVSIy3bq"
   },
   "source": [
    "4. Resultados obtenidos"
   ]
  },
  {
   "cell_type": "markdown",
   "metadata": {
    "id": "wZtPdp4Fy3br"
   },
   "source": [
    "Aca podemos mostrar los resultados de cada modelo, con un reporte para cada uno, matrices de confusion, etc"
   ]
  },
  {
   "cell_type": "code",
   "execution_count": null,
   "metadata": {
    "id": "jVrs8IgIy3br"
   },
   "outputs": [],
   "source": []
  },
  {
   "cell_type": "markdown",
   "metadata": {
    "id": "hf6d2LMkz8Xt"
   },
   "source": [
    "#### Modelo 3"
   ]
  },
  {
   "cell_type": "markdown",
   "metadata": {
    "id": "KfDBM3qPz8Xu"
   },
   "source": [
    "Habladera del modelo(?"
   ]
  },
  {
   "cell_type": "markdown",
   "metadata": {
    "id": "SMV9-6SBz8Xu"
   },
   "source": [
    "1. Imports"
   ]
  },
  {
   "cell_type": "code",
   "execution_count": null,
   "metadata": {
    "id": "riSKi4CJz8Xv"
   },
   "outputs": [],
   "source": []
  },
  {
   "cell_type": "markdown",
   "metadata": {
    "id": "zHgxxR5Pz8Xw"
   },
   "source": [
    "2. Metricas a usar para medir el rendimiento"
   ]
  },
  {
   "cell_type": "markdown",
   "metadata": {
    "id": "UNf_-vz8z8Xx"
   },
   "source": [
    "Breve explicacion de las metricas y justificacion de su uso."
   ]
  },
  {
   "cell_type": "code",
   "execution_count": null,
   "metadata": {
    "id": "Ym_Ii2toz8Xx"
   },
   "outputs": [],
   "source": []
  },
  {
   "cell_type": "markdown",
   "metadata": {
    "id": "BjuIIAwFz8Xy"
   },
   "source": [
    "3. Calculo de hiperparametros"
   ]
  },
  {
   "cell_type": "markdown",
   "metadata": {
    "id": "_VoMdNNLz8Xy"
   },
   "source": [
    "Explicacion de los hiperparametros del modelo"
   ]
  },
  {
   "cell_type": "code",
   "execution_count": null,
   "metadata": {
    "id": "kWPTr2Lfz8Xz"
   },
   "outputs": [],
   "source": []
  },
  {
   "cell_type": "markdown",
   "metadata": {
    "id": "KyVTYAKWz8X0"
   },
   "source": [
    "4. Resultados obtenidos"
   ]
  },
  {
   "cell_type": "markdown",
   "metadata": {
    "id": "q3-LHTIVz8X0"
   },
   "source": [
    "Aca podemos mostrar los resultados de cada modelo, con un reporte para cada uno, matrices de confusion, etc"
   ]
  },
  {
   "cell_type": "code",
   "execution_count": null,
   "metadata": {
    "id": "22eQcp9Pz8X1"
   },
   "outputs": [],
   "source": []
  },
  {
   "cell_type": "markdown",
   "metadata": {
    "id": "NCK-JkGh0k6_"
   },
   "source": [
    "### Conclusiones"
   ]
  },
  {
   "cell_type": "markdown",
   "metadata": {
    "id": "Rv8pHqoF0k7A"
   },
   "source": [
    "Habladera de que modelo vamos a elegir al final y justificar porque, ademas de agregar la seccion correspondiente al almacenamiento del modelo"
   ]
  },
  {
   "cell_type": "code",
   "execution_count": null,
   "metadata": {
    "id": "LXivXT6B2azh"
   },
   "outputs": [],
   "source": []
  },
  {
   "cell_type": "markdown",
   "metadata": {
    "id": "5eCn47DF0uDb"
   },
   "source": [
    "## Parte 4: Creacion de la API(?"
   ]
  },
  {
   "cell_type": "markdown",
   "metadata": {
    "id": "LLnLjre70z1y"
   },
   "source": [
    "No se si esto deba ser parte del notebook pero aca lo agrego"
   ]
  }
 ],
 "metadata": {
  "colab": {
   "collapsed_sections": [
    "-D8MuOr3don9",
    "l_YsPqcYiZX6",
    "N6HJXMWhidig",
    "-mKVhtSPyjGE",
    "jfm-BeO90WA5",
    "X0TipHZMgR2S",
    "mblyY78ljN3X",
    "ieW1wBfwyp3O",
    "S59fm1vzy3bh",
    "hf6d2LMkz8Xt",
    "NCK-JkGh0k6_",
    "5eCn47DF0uDb"
   ],
   "provenance": []
  },
  "kernelspec": {
   "display_name": "Python 3",
   "name": "python3"
  },
  "language_info": {
   "codemirror_mode": {
    "name": "ipython",
    "version": 3
   },
   "file_extension": ".py",
   "mimetype": "text/x-python",
   "name": "python",
   "nbconvert_exporter": "python",
   "pygments_lexer": "ipython3",
   "version": "3.10.6"
  }
 },
 "nbformat": 4,
 "nbformat_minor": 0
}
